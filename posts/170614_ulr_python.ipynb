{
 "cells": [
  {
   "cell_type": "markdown",
   "metadata": {
    "slideshow": {
     "slide_type": "slide"
    }
   },
   "source": [
    "## C++ and LaTeX code generation with Sympy \n",
    "\n",
    "**Antoine Falaize**, CNRS UMR 7356 LaSIE, Université de la Rochelle, France\n",
    "\n",
    "-----------------\n",
    "\n",
    "**Conférence _Python Scientifique_**\n",
    "\n",
    "*Université de La Rochelle - 14 Juin 2017*",
    "<!-- TEASER_END --> Read more" 
   ]
  },
  {
   "cell_type": "markdown",
   "metadata": {
    "slideshow": {
     "slide_type": "subslide"
    }
   },
   "source": [
    "#### What is SymPy\n",
    "\n",
    "From the [web site](http://www.sympy.org/fr/): *SymPy is a Python library for symbolic mathematics. It aims to become a full-featured computer algebra system (CAS) while keeping the code as simple as possible in order to be comprehensible and easily extensible. SymPy is written entirely in Python. *"
   ]
  },
  {
   "cell_type": "markdown",
   "metadata": {
    "slideshow": {
     "slide_type": "subslide"
    }
   },
   "source": [
    "#### Why use SymPy\n",
    "* Symbolic derivatives (optimization, nonlinear solvers, ...)\n",
    "* C++ Code generation (performance, portability, ...)\n",
    "* LaTeX Code generation (documentation, publication, ...)\n",
    "\n"
   ]
  },
  {
   "cell_type": "markdown",
   "metadata": {
    "slideshow": {
     "slide_type": "subslide"
    }
   },
   "source": [
    "#### Standard Python Import"
   ]
  },
  {
   "cell_type": "code",
   "execution_count": 1,
   "metadata": {
    "collapsed": true,
    "slideshow": {
     "slide_type": "-"
    }
   },
   "outputs": [],
   "source": [
    "import sympy as sp\n",
    "\n",
    "# in IPythonNoteBook: activates pretty printing of mathematical functions\n",
    "sp.init_printing(use_latex='mathjax')"
   ]
  },
  {
   "cell_type": "markdown",
   "metadata": {
    "slideshow": {
     "slide_type": "subslide"
    }
   },
   "source": [
    "#### Here: Simulation of a parametric Hamiltonian system\n",
    "\n",
    "$${\\small\n",
    "\\begin{array}{rcl}\n",
    "\\dot{\\mathbf x} =  \\mathbf J \\cdot \\nabla H(\\mathbf x),\n",
    "\\qquad \n",
    "H(\\mathbf x) = \\frac{x_0^2}{2} + \\operatorname{cosh}\\left(\\frac{10}{\\pi}x_1\\right) -1, \n",
    "\\qquad \n",
    "\\mathbf J(\\tau) =\n",
    "\\left(\n",
    "\\begin{array}{rr}\n",
    "0& -\\tau^2\n",
    "\\\\\n",
    "\\tau^2& 0\n",
    "\\end{array} \n",
    "\\right).\n",
    "\\end{array}\n",
    "}$$"
   ]
  },
  {
   "cell_type": "markdown",
   "metadata": {
    "slideshow": {
     "slide_type": "slide"
    }
   },
   "source": [
    "### 1. Basics: Definition of Symbols and Expressions\n",
    "$${\\small\n",
    "\\begin{array}{rcl}\n",
    "\\dot{\\mathbf x} =  \\mathbf J \\cdot \\nabla H(\\mathbf x),\n",
    "\\qquad \n",
    "H(\\mathbf x) = \\frac{x_0^2}{2} + \\operatorname{cosh}\\left(\\frac{10}{\\pi}x_1\\right) -1, \n",
    "\\qquad \n",
    "\\mathbf J(\\tau) =\n",
    "\\left(\n",
    "\\begin{array}{rr}\n",
    "0& -\\tau^2\n",
    "\\\\\n",
    "\\tau^2& 0\n",
    "\\end{array} \n",
    "\\right).\n",
    "\\end{array}\n",
    "}$$"
   ]
  },
  {
   "cell_type": "code",
   "execution_count": 2,
   "metadata": {
    "slideshow": {
     "slide_type": "fragment"
    }
   },
   "outputs": [
    {
     "data": {
      "text/latex": [
       "$$\\tau$$"
      ],
      "text/plain": [
       "τ"
      ]
     },
     "execution_count": 2,
     "metadata": {},
     "output_type": "execute_result"
    }
   ],
   "source": [
    "tau = sp.symbols('tau')  # Symbol\n",
    "tau"
   ]
  },
  {
   "cell_type": "code",
   "execution_count": 3,
   "metadata": {
    "slideshow": {
     "slide_type": "fragment"
    }
   },
   "outputs": [
    {
     "data": {
      "text/latex": [
       "$$\\left [ x_{0}, \\quad x_{1}\\right ]$$"
      ],
      "text/plain": [
       "[x₀, x₁]"
      ]
     },
     "execution_count": 3,
     "metadata": {},
     "output_type": "execute_result"
    }
   ],
   "source": [
    "x = list(sp.symbols('x:2'))  # Vector (list of symbols)\n",
    "x"
   ]
  },
  {
   "cell_type": "code",
   "execution_count": 4,
   "metadata": {
    "slideshow": {
     "slide_type": "fragment"
    }
   },
   "outputs": [
    {
     "data": {
      "text/latex": [
       "$$\\frac{x_{0}^{2}}{2} + \\cosh{\\left (\\frac{10 x_{1}}{\\pi} \\right )} - 1$$"
      ],
      "text/plain": [
       "  2                  \n",
       "x₀        ⎛10⋅x₁⎞    \n",
       "─── + cosh⎜─────⎟ - 1\n",
       " 2        ⎝  π  ⎠    "
      ]
     },
     "execution_count": 4,
     "metadata": {},
     "output_type": "execute_result"
    }
   ],
   "source": [
    "H = x[0]**2/2 + sp.cosh(10*x[1]/sp.pi)-1\n",
    "H"
   ]
  },
  {
   "cell_type": "markdown",
   "metadata": {
    "slideshow": {
     "slide_type": "subslide"
    }
   },
   "source": [
    "### 1. Basics: Definition of Symbols and Expressions\n",
    "#### Plots "
   ]
  },
  {
   "cell_type": "code",
   "execution_count": 5,
   "metadata": {
    "collapsed": true,
    "slideshow": {
     "slide_type": "skip"
    }
   },
   "outputs": [],
   "source": [
    "# Needed to plot inside Jupyter Notebook\n",
    "%matplotlib inline      "
   ]
  },
  {
   "cell_type": "code",
   "execution_count": 6,
   "metadata": {
    "slideshow": {
     "slide_type": "-"
    }
   },
   "outputs": [
    {
     "data": {
      "image/png": "[encoded data removed]",
      "text/plain": [
       "<matplotlib.figure.Figure at 0x107b60910>"
      ]
     },
     "metadata": {},
     "output_type": "display_data"
    },
    {
     "data": {
      "text/plain": [
       "<sympy.plotting.plot.Plot at 0x107b40fd0>"
      ]
     },
     "execution_count": 6,
     "metadata": {},
     "output_type": "execute_result"
    }
   ],
   "source": [
    "sp.plot(H.subs(x[0], 0), (x[1], -1, 1))"
   ]
  },
  {
   "cell_type": "markdown",
   "metadata": {
    "slideshow": {
     "slide_type": "subslide"
    }
   },
   "source": [
    "### 1. Basics: Definition of Symbols and Expressions\n",
    "#### Plots "
   ]
  },
  {
   "cell_type": "code",
   "execution_count": 7,
   "metadata": {
    "slideshow": {
     "slide_type": "-"
    }
   },
   "outputs": [
    {
     "data": {
      "image/png": "[encoded data removed]",
      "text/plain": [
       "<matplotlib.figure.Figure at 0x107c74c50>"
      ]
     },
     "metadata": {},
     "output_type": "display_data"
    },
    {
     "data": {
      "text/plain": [
       "<sympy.plotting.plot.Plot at 0x107c67150>"
      ]
     },
     "execution_count": 7,
     "metadata": {},
     "output_type": "execute_result"
    }
   ],
   "source": [
    "sp.plot(H.subs(x[1], 0), (x[0], -1, 1))"
   ]
  },
  {
   "cell_type": "markdown",
   "metadata": {
    "slideshow": {
     "slide_type": "subslide"
    }
   },
   "source": [
    "### 1. Basics: Definition of Symbols and Expressions\n",
    "$${\\small\n",
    "\\begin{array}{rcl}\n",
    "\\dot{\\mathbf x} =  \\mathbf J \\cdot \\nabla H(\\mathbf x),\n",
    "\\qquad \n",
    "H(\\mathbf x) = \\frac{x_0^2}{2} + \\operatorname{cosh}\\left(\\frac{10}{\\pi}x_1\\right) -1, \n",
    "\\qquad \n",
    "\\mathbf J(\\tau) =\n",
    "\\left(\n",
    "\\begin{array}{rr}\n",
    "0& -\\tau^2\n",
    "\\\\\n",
    "\\tau^2& 0\n",
    "\\end{array} \n",
    "\\right).\n",
    "\\end{array}\n",
    "}$$"
   ]
  },
  {
   "cell_type": "code",
   "execution_count": 8,
   "metadata": {
    "slideshow": {
     "slide_type": "-"
    }
   },
   "outputs": [
    {
     "data": {
      "text/latex": [
       "$$\\left [ x_{0}, \\quad \\frac{10}{\\pi} \\sinh{\\left (\\frac{10 x_{1}}{\\pi} \\right )}\\right ]$$"
      ],
      "text/plain": [
       "⎡           ⎛10⋅x₁⎞⎤\n",
       "⎢    10⋅sinh⎜─────⎟⎥\n",
       "⎢           ⎝  π  ⎠⎥\n",
       "⎢x₀, ──────────────⎥\n",
       "⎣          π       ⎦"
      ]
     },
     "execution_count": 8,
     "metadata": {},
     "output_type": "execute_result"
    }
   ],
   "source": [
    "dxH = map(H.diff, x) # Vector (list of expressions)  \n",
    "dxH"
   ]
  },
  {
   "cell_type": "code",
   "execution_count": 9,
   "metadata": {
    "slideshow": {
     "slide_type": "fragment"
    }
   },
   "outputs": [
    {
     "data": {
      "text/latex": [
       "$$\\left[\\begin{matrix}0 & - \\tau^{2}\\\\\\tau^{2} & 0\\end{matrix}\\right]$$"
      ],
      "text/plain": [
       "⎡      2⎤\n",
       "⎢0   -τ ⎥\n",
       "⎢       ⎥\n",
       "⎢ 2     ⎥\n",
       "⎣τ    0 ⎦"
      ]
     },
     "execution_count": 9,
     "metadata": {},
     "output_type": "execute_result"
    }
   ],
   "source": [
    "J = tau**2 * sp.Matrix([[0, -1], [1, 0]])  # Matrix (table of expressions)\n",
    "J"
   ]
  },
  {
   "cell_type": "markdown",
   "metadata": {
    "collapsed": true,
    "slideshow": {
     "slide_type": "slide"
    }
   },
   "source": [
    "### 2. Symbolic Numerical Method: the Theta scheme\n",
    "$$\n",
    "\\begin{array}{rcl}\n",
    "\\mathbf 0 = \\mathbf F(\\delta \\mathbf x) =  \\frac{\\delta \\mathbf x}{\\delta t} - \\mathbf J(\\tau) \\cdot \\nabla H(\\mathbf x_n + \\theta\\,\\delta \\mathbf x); \\qquad \\mathbf x_{n+1} = \\mathbf x_n + \\delta \\mathbf x; \\qquad x_0 \\;\\mbox{known}.\n",
    "\\end{array}\n",
    "$$"
   ]
  },
  {
   "cell_type": "code",
   "execution_count": 10,
   "metadata": {
    "slideshow": {
     "slide_type": "fragment"
    }
   },
   "outputs": [
    {
     "data": {
      "text/latex": [
       "$$\\left [ \\frac{\\delta_{x0}}{\\delta_{t}}, \\quad \\frac{\\delta_{x1}}{\\delta_{t}}\\right ]$$"
      ],
      "text/plain": [
       "⎡δₓ₀  δₓ₁⎤\n",
       "⎢───, ───⎥\n",
       "⎣δ_t  δ_t⎦"
      ]
     },
     "execution_count": 10,
     "metadata": {},
     "output_type": "execute_result"
    }
   ],
   "source": [
    "dt, theta = sp.symbols(('delta_t', 'theta'))\n",
    "dx = map(lambda xi: sp.symbols('delta_'+str(xi)), x)\n",
    "dtx = map(lambda dxi: dxi/dt, dx)\n",
    "dtx"
   ]
  },
  {
   "cell_type": "markdown",
   "metadata": {
    "collapsed": true,
    "slideshow": {
     "slide_type": "subslide"
    }
   },
   "source": [
    "### 2. Symbolic Numerical Method: the Theta scheme\n",
    "\n",
    "$$\n",
    "\\begin{array}{rcl}\n",
    "\\mathbf 0 = \\mathbf F(\\delta \\mathbf x) =  \\frac{\\delta \\mathbf x}{\\delta t} - \\mathbf J(\\tau) \\cdot \\nabla H(\\mathbf x_n + \\theta\\,\\delta \\mathbf x); \\qquad \\mathbf x_{n+1} = \\mathbf x_n + \\delta \\mathbf x; \\qquad x_0 \\;\\mbox{known}.\n",
    "\\end{array}\n",
    "$$"
   ]
  },
  {
   "cell_type": "code",
   "execution_count": 11,
   "metadata": {
    "slideshow": {
     "slide_type": "-"
    }
   },
   "outputs": [
    {
     "data": {
      "text/latex": [
       "$$\\left [ \\delta_{x0} \\theta + x_{0}, \\quad \\frac{10}{\\pi} \\sinh{\\left (\\frac{1}{\\pi} \\left(10 \\delta_{x1} \\theta + 10 x_{1}\\right) \\right )}\\right ]$$"
      ],
      "text/plain": [
       "⎡                   ⎛10⋅(δₓ₁⋅θ + x₁)⎞⎤\n",
       "⎢            10⋅sinh⎜───────────────⎟⎥\n",
       "⎢                   ⎝       π       ⎠⎥\n",
       "⎢δₓ₀⋅θ + x₀, ────────────────────────⎥\n",
       "⎣                       π            ⎦"
      ]
     },
     "execution_count": 11,
     "metadata": {},
     "output_type": "execute_result"
    }
   ],
   "source": [
    "subs = {}\n",
    "for i, xi in enumerate(list(x)):\n",
    "    subs[xi] = xi + theta*dx[i]\n",
    "dxH = [dxHi.subs(subs) for dxHi in dxH]\n",
    "dxH"
   ]
  },
  {
   "cell_type": "code",
   "execution_count": 12,
   "metadata": {
    "collapsed": true,
    "slideshow": {
     "slide_type": "fragment"
    }
   },
   "outputs": [],
   "source": [
    "F = map(sp.Add, dtx, (-J).dot(dxH))"
   ]
  },
  {
   "cell_type": "code",
   "execution_count": 13,
   "metadata": {},
   "outputs": [
    {
     "data": {
      "text/latex": [
       "$$\\left [ \\frac{10 \\tau^{2}}{\\pi} \\sinh{\\left (\\frac{1}{\\pi} \\left(10 \\delta_{x1} \\theta + 10 x_{1}\\right) \\right )} + \\frac{\\delta_{x0}}{\\delta_{t}}, \\quad - \\tau^{2} \\left(\\delta_{x0} \\theta + x_{0}\\right) + \\frac{\\delta_{x1}}{\\delta_{t}}\\right ]$$"
      ],
      "text/plain": [
       "⎡    2     ⎛10⋅(δₓ₁⋅θ + x₁)⎞                               ⎤\n",
       "⎢10⋅τ ⋅sinh⎜───────────────⎟                               ⎥\n",
       "⎢          ⎝       π       ⎠   δₓ₀     2                δₓ₁⎥\n",
       "⎢─────────────────────────── + ───, - τ ⋅(δₓ₀⋅θ + x₀) + ───⎥\n",
       "⎣             π                δ_t                      δ_t⎦"
      ]
     },
     "execution_count": 13,
     "metadata": {},
     "output_type": "execute_result"
    }
   ],
   "source": [
    "F"
   ]
  },
  {
   "cell_type": "markdown",
   "metadata": {
    "slideshow": {
     "slide_type": "slide"
    }
   },
   "source": [
    "### 3. Numerical evaluation of symbolic expressions\n",
    "\n",
    "$$\n",
    "\\begin{array}{rcl}\n",
    "\\mathbf 0 = \\mathbf F(\\delta \\mathbf x) =  \\frac{\\delta \\mathbf x}{\\delta t} - \\mathbf J(\\tau) \\cdot \\nabla H(\\mathbf x + \\theta\\,\\delta \\mathbf x); \\qquad \\mathbf x_{n+1} = \\mathbf x_n + \\delta \\mathbf x; \\qquad x_0 \\;\\mbox{known}.\n",
    "\\end{array}\n",
    "$$"
   ]
  },
  {
   "cell_type": "code",
   "execution_count": 14,
   "metadata": {
    "collapsed": true,
    "slideshow": {
     "slide_type": "fragment"
    }
   },
   "outputs": [],
   "source": [
    "pars = [tau, dt, theta]"
   ]
  },
  {
   "cell_type": "code",
   "execution_count": 15,
   "metadata": {
    "collapsed": true,
    "slideshow": {
     "slide_type": "fragment"
    }
   },
   "outputs": [],
   "source": [
    "args = dx + x + pars"
   ]
  },
  {
   "cell_type": "code",
   "execution_count": 16,
   "metadata": {
    "collapsed": true,
    "slideshow": {
     "slide_type": "fragment"
    }
   },
   "outputs": [],
   "source": [
    "F_lambdify = sp.lambdify(args, F, modules='numpy')\n",
    "def F_num(*args):    # Recast output as numpy array\n",
    "    return np.array(F_lambdify(*args))"
   ]
  },
  {
   "cell_type": "code",
   "execution_count": 17,
   "metadata": {
    "slideshow": {
     "slide_type": "fragment"
    }
   },
   "outputs": [
    {
     "data": {
      "text/plain": [
       "array([ 3.6989806 ,  0.55891647])"
      ]
     },
     "execution_count": 17,
     "metadata": {},
     "output_type": "execute_result"
    }
   ],
   "source": [
    "import numpy as np\n",
    "F_num(*np.random.rand(7))    # Evaluate with random values"
   ]
  },
  {
   "cell_type": "markdown",
   "metadata": {
    "slideshow": {
     "slide_type": "slide"
    }
   },
   "source": [
    "### 4. Newton-like solvers need the Jacobian of implicit function\n",
    "\n",
    "$$\n",
    "\\delta \\mathbf x_{i+1} = \\delta \\mathbf x_i + \\mathcal J_{\\mathbf F}(\\delta \\mathbf x_i)^{-1}\\cdot\\mathbf F(\\delta \\mathbf x_i); \\qquad [\\mathcal J_{\\mathbf F}(\\delta \\mathbf x_i)]_{k,l} = \\frac{\\partial [\\mathbf F]_{k}}{\\partial [\\mathbf \\delta \\mathbf x]_{l}}\n",
    "$$"
   ]
  },
  {
   "cell_type": "code",
   "execution_count": 18,
   "metadata": {
    "collapsed": true,
    "slideshow": {
     "slide_type": "fragment"
    }
   },
   "outputs": [],
   "source": [
    "nF, ndx = len(F), len(dx)\n",
    "jacF = sp.zeros(nF, ndx)    # Init sympy matrix"
   ]
  },
  {
   "cell_type": "code",
   "execution_count": 19,
   "metadata": {
    "collapsed": true,
    "slideshow": {
     "slide_type": "fragment"
    }
   },
   "outputs": [],
   "source": [
    "for k in range(nF):\n",
    "    for l in range(ndx):\n",
    "        jacF[k, l] = sp.diff(F[k], dx[l]).simplify()    # derivative"
   ]
  },
  {
   "cell_type": "code",
   "execution_count": 20,
   "metadata": {
    "slideshow": {
     "slide_type": "fragment"
    }
   },
   "outputs": [
    {
     "data": {
      "text/latex": [
       "$$\\left[\\begin{matrix}\\frac{1}{\\delta_{t}} & \\frac{100 \\theta}{\\pi^{2}} \\tau^{2} \\cosh{\\left (\\frac{1}{\\pi} \\left(10 \\delta_{x1} \\theta + 10 x_{1}\\right) \\right )}\\\\- \\tau^{2} \\theta & \\frac{1}{\\delta_{t}}\\end{matrix}\\right]$$"
      ],
      "text/plain": [
       "⎡            2       ⎛10⋅(δₓ₁⋅θ + x₁)⎞⎤\n",
       "⎢       100⋅τ ⋅θ⋅cosh⎜───────────────⎟⎥\n",
       "⎢  1                 ⎝       π       ⎠⎥\n",
       "⎢ ───   ──────────────────────────────⎥\n",
       "⎢ δ_t                  2              ⎥\n",
       "⎢                     π               ⎥\n",
       "⎢                                     ⎥\n",
       "⎢  2                  1               ⎥\n",
       "⎢-τ ⋅θ               ───              ⎥\n",
       "⎣                    δ_t              ⎦"
      ]
     },
     "execution_count": 20,
     "metadata": {},
     "output_type": "execute_result"
    }
   ],
   "source": [
    "jacF"
   ]
  },
  {
   "cell_type": "code",
   "execution_count": 21,
   "metadata": {
    "collapsed": true,
    "slideshow": {
     "slide_type": "fragment"
    }
   },
   "outputs": [],
   "source": [
    "jacF_num = sp.lambdify(args, jacF, modules='numpy')    # Build numerical function"
   ]
  },
  {
   "cell_type": "markdown",
   "metadata": {
    "slideshow": {
     "slide_type": "subslide"
    }
   },
   "source": [
    "#### Here, we use SciPy root finding method"
   ]
  },
  {
   "cell_type": "code",
   "execution_count": 22,
   "metadata": {
    "collapsed": true
   },
   "outputs": [],
   "source": [
    "from scipy.optimize import root"
   ]
  },
  {
   "cell_type": "markdown",
   "metadata": {
    "slideshow": {
     "slide_type": "fragment"
    }
   },
   "source": [
    "#### Need to parse SymPy functions to SciPy solvers"
   ]
  },
  {
   "cell_type": "code",
   "execution_count": 23,
   "metadata": {
    "collapsed": true
   },
   "outputs": [],
   "source": [
    "def scipy_func(dx, x, pars):\n",
    "    return F_num(*(list(dx)+list(x)+pars))\n",
    "\n",
    "def scipy_jacfunc(dx, x, pars):\n",
    "    return jacF_num(*(list(dx)+list(x)+pars))"
   ]
  },
  {
   "cell_type": "markdown",
   "metadata": {
    "slideshow": {
     "slide_type": "slide"
    }
   },
   "source": [
    "### 6. Simulation"
   ]
  },
  {
   "cell_type": "markdown",
   "metadata": {},
   "source": [
    "#### Parameters"
   ]
  },
  {
   "cell_type": "code",
   "execution_count": 24,
   "metadata": {
    "collapsed": true
   },
   "outputs": [],
   "source": [
    "dt_num = 1e-1   # Sample period (s)\n",
    "tau_num = 1.    # Parameter: System characteristic time (s)\n",
    "theta_num = 0.5  # Scheme parameter: 0=Euler Explicit, 1=Euler implicit, 0.5=Midpoint rule\n",
    "pars_num = [tau_num, dt_num, theta_num]"
   ]
  },
  {
   "cell_type": "code",
   "execution_count": 25,
   "metadata": {
    "collapsed": true,
    "slideshow": {
     "slide_type": "fragment"
    }
   },
   "outputs": [],
   "source": [
    "nt = int(1e4)    # Number of time steps\n",
    "x0 = [1., 0.]    # State init."
   ]
  },
  {
   "cell_type": "code",
   "execution_count": 26,
   "metadata": {
    "collapsed": true,
    "slideshow": {
     "slide_type": "fragment"
    }
   },
   "outputs": [],
   "source": [
    "X_seq = np.zeros((len(x), nt))    # Sequence\n",
    "X_seq[:, 0] = x0"
   ]
  },
  {
   "cell_type": "code",
   "execution_count": 27,
   "metadata": {
    "collapsed": true
   },
   "outputs": [],
   "source": [
    "DX_seq = np.zeros((len(dx), nt))    # Sequence"
   ]
  },
  {
   "cell_type": "markdown",
   "metadata": {
    "slideshow": {
     "slide_type": "subslide"
    }
   },
   "source": [
    "#### Execution"
   ]
  },
  {
   "cell_type": "code",
   "execution_count": 28,
   "metadata": {},
   "outputs": [],
   "source": [
    "for i in range(1, nt):\n",
    "    X_seq[:, i] = X_seq[:, i-1] + DX_seq[:, i-1]    # x[i] = x[i-1] + dx[i-1]\n",
    "    res = root(scipy_func, DX_seq[:, -i], (X_seq[:, i], pars_num), jac=scipy_jacfunc)\n",
    "    DX_seq[:, i] = res.x    # F(dx[i]) = 0\n",
    "    "
   ]
  },
  {
   "cell_type": "markdown",
   "metadata": {
    "slideshow": {
     "slide_type": "subslide"
    }
   },
   "source": [
    "### Plot of results"
   ]
  },
  {
   "cell_type": "code",
   "execution_count": 29,
   "metadata": {
    "collapsed": true,
    "slideshow": {
     "slide_type": "-"
    }
   },
   "outputs": [],
   "source": [
    "import matplotlib.pyplot as plt    # Plot module"
   ]
  },
  {
   "cell_type": "code",
   "execution_count": 30,
   "metadata": {
    "slideshow": {
     "slide_type": "-"
    }
   },
   "outputs": [
    {
     "data": {
      "image/png": "[encoded data removed]",
      "text/plain": [
       "<matplotlib.figure.Figure at 0x1090786d0>"
      ]
     },
     "metadata": {},
     "output_type": "display_data"
    }
   ],
   "source": [
    "plt.plot(X_seq[0, :], X_seq[1, :])    # Plot trajectory (blue)\n",
    "plt.plot(X_seq[0, 0], X_seq[1, 0], 'or')    # Add a red dot at init\n",
    "plt.grid('on')    # Display grid "
   ]
  },
  {
   "cell_type": "markdown",
   "metadata": {
    "slideshow": {
     "slide_type": "slide"
    }
   },
   "source": [
    "### 7. C++ Code Generation with SymPy"
   ]
  },
  {
   "cell_type": "code",
   "execution_count": 31,
   "metadata": {
    "collapsed": true
   },
   "outputs": [],
   "source": [
    "from sympy.printing import ccode"
   ]
  },
  {
   "cell_type": "markdown",
   "metadata": {
    "slideshow": {
     "slide_type": "subslide"
    }
   },
   "source": [
    "#### Single expression"
   ]
  },
  {
   "cell_type": "code",
   "execution_count": 32,
   "metadata": {
    "slideshow": {
     "slide_type": "-"
    }
   },
   "outputs": [
    {
     "data": {
      "text/latex": [
       "$$\\frac{x_{0}^{2}}{2} + \\cosh{\\left (\\frac{10 x_{1}}{\\pi} \\right )} - 1$$"
      ],
      "text/plain": [
       "  2                  \n",
       "x₀        ⎛10⋅x₁⎞    \n",
       "─── + cosh⎜─────⎟ - 1\n",
       " 2        ⎝  π  ⎠    "
      ]
     },
     "execution_count": 32,
     "metadata": {},
     "output_type": "execute_result"
    }
   ],
   "source": [
    "H    # Recall"
   ]
  },
  {
   "cell_type": "code",
   "execution_count": 33,
   "metadata": {
    "slideshow": {
     "slide_type": "-"
    }
   },
   "outputs": [
    {
     "data": {
      "text/plain": [
       "'(1.0L/2.0L)*pow((*x0), 2) + cosh(10*(*x1)/M_PI) - 1'"
      ]
     },
     "execution_count": 33,
     "metadata": {},
     "output_type": "execute_result"
    }
   ],
   "source": [
    "ccode(H, dereference=args)    # Print C++ code"
   ]
  },
  {
   "cell_type": "markdown",
   "metadata": {
    "slideshow": {
     "slide_type": "subslide"
    }
   },
   "source": [
    "#### Matrix expression (via a template)"
   ]
  },
  {
   "cell_type": "code",
   "execution_count": 34,
   "metadata": {
    "collapsed": true,
    "slideshow": {
     "slide_type": "skip"
    }
   },
   "outputs": [],
   "source": [
    "def cpp_generator(mat, args, name, label):\n",
    "    update_cpp = '\\nvoid {0}::{1}_update()'.format(label, name) + '{'\n",
    "    for n in range(mat.shape[1]):\n",
    "        for m in range(mat.shape[0]):\n",
    "            expr = mat[m, n]\n",
    "            symbs = expr.free_symbols\n",
    "            c = ccode(expr, dereference=args)\n",
    "            update_cpp += '\\n_{0}({1}, {2}) = {3};'.format(name, m, n, c)\n",
    "    update_cpp += '\\n};'\n",
    "    return update_cpp"
   ]
  },
  {
   "cell_type": "code",
   "execution_count": 35,
   "metadata": {
    "slideshow": {
     "slide_type": "-"
    }
   },
   "outputs": [
    {
     "data": {
      "text/latex": [
       "$$\\left [ \\frac{10 \\tau^{2}}{\\pi} \\sinh{\\left (\\frac{1}{\\pi} \\left(10 \\delta_{x1} \\theta + 10 x_{1}\\right) \\right )} + \\frac{\\delta_{x0}}{\\delta_{t}}, \\quad - \\tau^{2} \\left(\\delta_{x0} \\theta + x_{0}\\right) + \\frac{\\delta_{x1}}{\\delta_{t}}\\right ]$$"
      ],
      "text/plain": [
       "⎡    2     ⎛10⋅(δₓ₁⋅θ + x₁)⎞                               ⎤\n",
       "⎢10⋅τ ⋅sinh⎜───────────────⎟                               ⎥\n",
       "⎢          ⎝       π       ⎠   δₓ₀     2                δₓ₁⎥\n",
       "⎢─────────────────────────── + ───, - τ ⋅(δₓ₀⋅θ + x₀) + ───⎥\n",
       "⎣             π                δ_t                      δ_t⎦"
      ]
     },
     "execution_count": 35,
     "metadata": {},
     "output_type": "execute_result"
    }
   ],
   "source": [
    "F    # Recall  "
   ]
  },
  {
   "cell_type": "code",
   "execution_count": 36,
   "metadata": {
    "slideshow": {
     "slide_type": "-"
    }
   },
   "outputs": [
    {
     "name": "stdout",
     "output_type": "stream",
     "text": [
      "\n",
      "void myobject::F_update(){\n",
      "_F(0, 0) = 10*pow((*tau), 2)*sinh(10*((*delta_x1)*(*theta) + (*x1))/M_PI)/M_PI + (*delta_x0)/(*delta_t);\n",
      "_F(1, 0) = -pow((*tau), 2)*((*delta_x0)*(*theta) + (*x0)) + (*delta_x1)/(*delta_t);\n",
      "};\n"
     ]
    }
   ],
   "source": [
    "label = 'myobject'\n",
    "mat = sp.Matrix(F)\n",
    "name = 'F'\n",
    "code = cpp_generator(mat, args, name, label)    # Print C++ code\n",
    "print(code)"
   ]
  },
  {
   "cell_type": "markdown",
   "metadata": {
    "slideshow": {
     "slide_type": "subslide"
    }
   },
   "source": [
    "#### Matrix expression (via a template)"
   ]
  },
  {
   "cell_type": "code",
   "execution_count": 37,
   "metadata": {
    "slideshow": {
     "slide_type": "-"
    }
   },
   "outputs": [
    {
     "data": {
      "text/latex": [
       "$$\\left[\\begin{matrix}\\frac{1}{\\delta_{t}} & \\frac{100 \\theta}{\\pi^{2}} \\tau^{2} \\cosh{\\left (\\frac{1}{\\pi} \\left(10 \\delta_{x1} \\theta + 10 x_{1}\\right) \\right )}\\\\- \\tau^{2} \\theta & \\frac{1}{\\delta_{t}}\\end{matrix}\\right]$$"
      ],
      "text/plain": [
       "⎡            2       ⎛10⋅(δₓ₁⋅θ + x₁)⎞⎤\n",
       "⎢       100⋅τ ⋅θ⋅cosh⎜───────────────⎟⎥\n",
       "⎢  1                 ⎝       π       ⎠⎥\n",
       "⎢ ───   ──────────────────────────────⎥\n",
       "⎢ δ_t                  2              ⎥\n",
       "⎢                     π               ⎥\n",
       "⎢                                     ⎥\n",
       "⎢  2                  1               ⎥\n",
       "⎢-τ ⋅θ               ───              ⎥\n",
       "⎣                    δ_t              ⎦"
      ]
     },
     "execution_count": 37,
     "metadata": {},
     "output_type": "execute_result"
    }
   ],
   "source": [
    "jacF    # Recall  "
   ]
  },
  {
   "cell_type": "code",
   "execution_count": 38,
   "metadata": {
    "slideshow": {
     "slide_type": "-"
    }
   },
   "outputs": [
    {
     "name": "stdout",
     "output_type": "stream",
     "text": [
      "\n",
      "void myobject::jacF_update(){\n",
      "_jacF(0, 0) = 1.0/(*delta_t);\n",
      "_jacF(1, 0) = -pow((*tau), 2)*(*theta);\n",
      "_jacF(0, 1) = 100*pow((*tau), 2)*(*theta)*cosh(10*((*delta_x1)*(*theta) + (*x1))/M_PI)/pow(M_PI, 2);\n",
      "_jacF(1, 1) = 1.0/(*delta_t);\n",
      "};\n"
     ]
    }
   ],
   "source": [
    "label = 'myobject'\n",
    "mat = jacF\n",
    "name = 'jacF'\n",
    "code = cpp_generator(mat, args, name, label)    # Print C++ code\n",
    "print(code)"
   ]
  },
  {
   "cell_type": "markdown",
   "metadata": {
    "slideshow": {
     "slide_type": "slide"
    }
   },
   "source": [
    "### 8. LaTeX Code Generation with SymPy"
   ]
  },
  {
   "cell_type": "code",
   "execution_count": 39,
   "metadata": {
    "collapsed": true
   },
   "outputs": [],
   "source": [
    "from sympy.printing import latex"
   ]
  },
  {
   "cell_type": "markdown",
   "metadata": {
    "slideshow": {
     "slide_type": "subslide"
    }
   },
   "source": [
    "#### Single expression"
   ]
  },
  {
   "cell_type": "code",
   "execution_count": 40,
   "metadata": {
    "slideshow": {
     "slide_type": "-"
    }
   },
   "outputs": [
    {
     "data": {
      "text/latex": [
       "$$\\frac{x_{0}^{2}}{2} + \\cosh{\\left (\\frac{10 x_{1}}{\\pi} \\right )} - 1$$"
      ],
      "text/plain": [
       "  2                  \n",
       "x₀        ⎛10⋅x₁⎞    \n",
       "─── + cosh⎜─────⎟ - 1\n",
       " 2        ⎝  π  ⎠    "
      ]
     },
     "execution_count": 40,
     "metadata": {},
     "output_type": "execute_result"
    }
   ],
   "source": [
    "H    # Recall"
   ]
  },
  {
   "cell_type": "code",
   "execution_count": 41,
   "metadata": {
    "slideshow": {
     "slide_type": "-"
    }
   },
   "outputs": [
    {
     "name": "stdout",
     "output_type": "stream",
     "text": [
      "\\frac{x_{0}^{2}}{2} + \\cosh{\\left (\\frac{10 x_{1}}{\\pi} \\right )} - 1\n"
     ]
    }
   ],
   "source": [
    "print(latex(H))    # Print latex code"
   ]
  },
  {
   "cell_type": "markdown",
   "metadata": {},
   "source": [
    "Render:\n",
    "$$\n",
    "\\frac{x_{0}^{2}}{2} + \\cosh{\\left (\\frac{10 x_{1}}{\\pi} \\right )} - 1\n",
    "$$    "
   ]
  },
  {
   "cell_type": "markdown",
   "metadata": {
    "slideshow": {
     "slide_type": "subslide"
    }
   },
   "source": [
    "#### Matrix expression"
   ]
  },
  {
   "cell_type": "code",
   "execution_count": 42,
   "metadata": {
    "slideshow": {
     "slide_type": "-"
    }
   },
   "outputs": [
    {
     "data": {
      "text/latex": [
       "$$\\left[\\begin{matrix}\\frac{1}{\\delta_{t}} & \\frac{100 \\theta}{\\pi^{2}} \\tau^{2} \\cosh{\\left (\\frac{1}{\\pi} \\left(10 \\delta_{x1} \\theta + 10 x_{1}\\right) \\right )}\\\\- \\tau^{2} \\theta & \\frac{1}{\\delta_{t}}\\end{matrix}\\right]$$"
      ],
      "text/plain": [
       "⎡            2       ⎛10⋅(δₓ₁⋅θ + x₁)⎞⎤\n",
       "⎢       100⋅τ ⋅θ⋅cosh⎜───────────────⎟⎥\n",
       "⎢  1                 ⎝       π       ⎠⎥\n",
       "⎢ ───   ──────────────────────────────⎥\n",
       "⎢ δ_t                  2              ⎥\n",
       "⎢                     π               ⎥\n",
       "⎢                                     ⎥\n",
       "⎢  2                  1               ⎥\n",
       "⎢-τ ⋅θ               ───              ⎥\n",
       "⎣                    δ_t              ⎦"
      ]
     },
     "execution_count": 42,
     "metadata": {},
     "output_type": "execute_result"
    }
   ],
   "source": [
    "jacF    # Recall  "
   ]
  },
  {
   "cell_type": "code",
   "execution_count": 43,
   "metadata": {
    "slideshow": {
     "slide_type": "-"
    }
   },
   "outputs": [
    {
     "name": "stdout",
     "output_type": "stream",
     "text": [
      "\\left[\\begin{matrix}\\frac{1}{\\delta_{t}} & \\frac{100 \\theta}{\\pi^{2}} \\tau^{2} \\cosh{\\left (\\frac{1}{\\pi} \\left(10 \\delta_{x1} \\theta + 10 x_{1}\\right) \\right )}\\\\- \\tau^{2} \\theta & \\frac{1}{\\delta_{t}}\\end{matrix}\\right]\n"
     ]
    }
   ],
   "source": [
    "print(latex(jacF))    # Print latex code"
   ]
  },
  {
   "cell_type": "markdown",
   "metadata": {},
   "source": [
    "Render:\n",
    "$$\n",
    "\\left[\\begin{matrix}\\frac{1}{\\delta_{t}} & \\frac{100 \\theta}{\\pi^{2}} \\tau^{2} \\cosh{\\left (\\frac{1}{\\pi} \\left(10 \\delta_{x1} \\theta + 10 x_{1}\\right) \\right )}\\\\- \\tau^{2} \\theta & \\frac{1}{\\delta_{t}}\\end{matrix}\\right]\n",
    "$$    "
   ]
  },
  {
   "cell_type": "markdown",
   "metadata": {
    "slideshow": {
     "slide_type": "slide"
    }
   },
   "source": [
    "### Conclusions"
   ]
  },
  {
   "cell_type": "markdown",
   "metadata": {
    "slideshow": {
     "slide_type": "-"
    }
   },
   "source": [
    "* Standard workflow:\n",
    "    1. Define SymPy symbols and Expressions,\n",
    "    2. Combine these objects in a class,\n",
    "    3. Generate C++ code via templates,\n",
    "    4. Use CMake for crossplatform builds,\n",
    "    5. Save results to disk for large data and Python $\\leftrightarrow$ C++ exchange "
   ]
  },
  {
   "cell_type": "markdown",
   "metadata": {
    "slideshow": {
     "slide_type": "subslide"
    }
   },
   "source": [
    "### Conclusions"
   ]
  },
  {
   "cell_type": "markdown",
   "metadata": {
    "slideshow": {
     "slide_type": "-"
    }
   },
   "source": [
    "* SymPy can be used to \n",
    "    - Manipulate and simplify complex expressions in pure Python\n",
    "    - Build Structured Mathematical Object\n",
    "    - Generate code for Simulation (C++) and Documentation (LatTeX)"
   ]
  },
  {
   "cell_type": "markdown",
   "metadata": {
    "slideshow": {
     "slide_type": "subslide"
    }
   },
   "source": [
    "### Example: the PyPHS package\n",
    "Graph modeling and Simulation of Multiphysical systems in the Port-Hamiltonian Systems formalism.\n",
    "![graph](https://afalaize.github.io/pyphs/figures/home2.png)"
   ]
  },
  {
   "cell_type": "markdown",
   "metadata": {
    "slideshow": {
     "slide_type": "subslide"
    }
   },
   "source": [
    "### Example: the PyPHS package\n",
    "Graph modeling and Simulation of multiphysical systems in the Port-Hamiltonian Systems formalism.\n",
    "![PyPHS](https://afalaize.github.io/pyphs/figures/home1.png)"
   ]
  },
  {
   "cell_type": "markdown",
   "metadata": {
    "slideshow": {
     "slide_type": "subslide"
    }
   },
   "source": [
    "### Thank you for your attention\n",
    "\n",
    "Links:\n",
    "* [This notebook](https://afalaize.github.io/posts/170614_ulr_python/)\n",
    "* [PyPHS](https://afalaize.github.io/pyphs/)\n"
   ]
  }
 ],
 "metadata": {
  "celltoolbar": "Slideshow",
  "kernelspec": {
   "display_name": "Python 2",
   "language": "python",
   "name": "python2"
  },
  "language_info": {
   "codemirror_mode": {
    "name": "ipython",
    "version": 2
   },
   "file_extension": ".py",
   "mimetype": "text/x-python",
   "name": "python",
   "nbconvert_exporter": "python",
   "pygments_lexer": "ipython2",
   "version": "2.7.12"
  }
 },
 "nbformat": 4,
 "nbformat_minor": 1
}
